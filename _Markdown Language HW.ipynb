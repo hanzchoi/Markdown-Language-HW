{
 "cells": [
  {
   "cell_type": "markdown",
   "id": "f3a40bca",
   "metadata": {},
   "source": [
    "\n",
    "<h1>Hanbi Hanz Choi</h1>\n",
    "\n",
    "<h2>Something about me that may or may not be interesting</h2>\n",
    "\n",
    "<ul>\n",
    "    <li>I have a dry sense of humor</li>\n",
    "    <li>Long commute I have</li>\n",
    "    <li>Not a big fan of <strong><em>Star Wars</em></strong></li>\n",
    "    <li>More into <strong><em>Star Trek</em></strong></li>\n",
    "</ul>\n",
    "\n",
    "\n",
    ">“<em>You miss 100% of the shots you don’t take</em> - Wayne Gretzky - Michael Scott - Hanbi Hanz Choi”\n",
    "\n",
    "\n",
    "\n"
   ]
  },
  {
   "cell_type": "code",
   "execution_count": null,
   "id": "c78590a6",
   "metadata": {},
   "outputs": [],
   "source": []
  }
 ],
 "metadata": {
  "kernelspec": {
   "display_name": "Python 3 (ipykernel)",
   "language": "python",
   "name": "python3"
  },
  "language_info": {
   "codemirror_mode": {
    "name": "ipython",
    "version": 3
   },
   "file_extension": ".py",
   "mimetype": "text/x-python",
   "name": "python",
   "nbconvert_exporter": "python",
   "pygments_lexer": "ipython3",
   "version": "3.8.8"
  }
 },
 "nbformat": 4,
 "nbformat_minor": 5
}
